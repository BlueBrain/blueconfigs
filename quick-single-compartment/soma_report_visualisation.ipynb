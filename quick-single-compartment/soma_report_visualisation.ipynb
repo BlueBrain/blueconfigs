{
 "cells": [
  {
   "cell_type": "code",
   "execution_count": 1,
   "id": "6e949c80",
   "metadata": {},
   "outputs": [],
   "source": [
    "import libsonata"
   ]
  },
  {
   "cell_type": "code",
   "execution_count": 2,
   "id": "858e1647",
   "metadata": {},
   "outputs": [],
   "source": [
    "somas = libsonata.SomaReportReader('/gpfs/bbp.cscs.ch/home/magkanar/proj16/MMB2022-218/blueconfigs/quick-single-compartment/output_sonata/soma.h5')"
   ]
  },
  {
   "cell_type": "code",
   "execution_count": 3,
   "id": "c1e42c6d",
   "metadata": {},
   "outputs": [],
   "source": [
    "soma_population_name = somas.get_population_names()[0]"
   ]
  },
  {
   "cell_type": "code",
   "execution_count": 4,
   "id": "237b2b5e",
   "metadata": {},
   "outputs": [],
   "source": [
    "population_somas = somas[soma_population_name]"
   ]
  },
  {
   "cell_type": "code",
   "execution_count": 5,
   "id": "d204fb42",
   "metadata": {},
   "outputs": [
    {
     "data": {
      "text/plain": [
       "(0.0, 100.0, 0.1)"
      ]
     },
     "execution_count": 5,
     "metadata": {},
     "output_type": "execute_result"
    }
   ],
   "source": [
    "population_somas.times"
   ]
  },
  {
   "cell_type": "code",
   "execution_count": 6,
   "id": "a69a4674",
   "metadata": {},
   "outputs": [
    {
     "data": {
      "text/plain": [
       "[0, 1, 2, 3, 4, 5, 6, 7, 8, 9]"
      ]
     },
     "execution_count": 6,
     "metadata": {},
     "output_type": "execute_result"
    }
   ],
   "source": [
    "population_somas.get_node_ids()"
   ]
  },
  {
   "cell_type": "code",
   "execution_count": 10,
   "id": "9aca8706",
   "metadata": {},
   "outputs": [],
   "source": [
    "data_frame = population_somas.get(node_ids=[0,1,2,3], tstart=0., tstop=100.)"
   ]
  },
  {
   "cell_type": "code",
   "execution_count": 11,
   "id": "fdf76be6",
   "metadata": {},
   "outputs": [
    {
     "name": "stdout",
     "output_type": "stream",
     "text": [
      "              0          1          2          3\n",
      "0.0  -65.000000 -65.000000 -65.000000 -65.000000\n",
      "0.1  -64.965965 -64.962608 -64.962608 -64.962608\n",
      "0.2  -64.931953 -64.925278 -64.925278 -64.925278\n",
      "0.3  -64.897995 -64.888000 -64.888000 -64.888000\n",
      "0.4  -64.864090 -64.850784 -64.850784 -64.850784\n",
      "...         ...        ...        ...        ...\n",
      "99.5 -55.741272 -54.909756 -68.726723 -68.726723\n",
      "99.6 -55.696068 -61.351494 -70.837730 -70.837730\n",
      "99.7 -55.650307 -65.815712 -72.308884 -72.308884\n",
      "99.8 -55.603973 -68.841934 -73.350868 -73.350868\n",
      "99.9 -55.557049 -70.918236 -74.100349 -74.100349\n",
      "\n",
      "[1000 rows x 4 columns]\n"
     ]
    },
    {
     "data": {
      "text/plain": [
       "<AxesSubplot:>"
      ]
     },
     "execution_count": 11,
     "metadata": {},
     "output_type": "execute_result"
    },
    {
     "data": {
      "image/png": "[encoded data removed]",
      "text/plain": [
       "<Figure size 432x288 with 1 Axes>"
      ]
     },
     "metadata": {
      "needs_background": "light"
     },
     "output_type": "display_data"
    }
   ],
   "source": [
    "import matplotlib.pyplot as plt\n",
    "import pandas\n",
    "df = pandas.DataFrame(data_frame.data, columns=data_frame.ids, index=data_frame.times)\n",
    "print(df)\n",
    "df.plot()"
   ]
  },
  {
   "cell_type": "code",
   "execution_count": null,
   "id": "e4b389fb",
   "metadata": {},
   "outputs": [],
   "source": []
  }
 ],
 "metadata": {
  "kernelspec": {
   "display_name": "Python 3 (ipykernel)",
   "language": "python",
   "name": "python3"
  },
  "language_info": {
   "codemirror_mode": {
    "name": "ipython",
    "version": 3
   },
   "file_extension": ".py",
   "mimetype": "text/x-python",
   "name": "python",
   "nbconvert_exporter": "python",
   "pygments_lexer": "ipython3",
   "version": "3.9.7"
  }
 },
 "nbformat": 4,
 "nbformat_minor": 5
}
